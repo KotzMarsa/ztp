{
  "nbformat": 4,
  "nbformat_minor": 0,
  "metadata": {
    "colab": {
      "name": "lab1.ipynb",
      "version": "0.3.2",
      "provenance": [],
      "collapsed_sections": [],
      "include_colab_link": true
    },
    "kernelspec": {
      "name": "python3",
      "display_name": "Python 3"
    }
  },
  "cells": [
    {
      "cell_type": "markdown",
      "metadata": {
        "id": "view-in-github",
        "colab_type": "text"
      },
      "source": [
        "[View in Colaboratory](https://colab.research.google.com/github/KotzMarsa/ztp/blob/master/lab1.ipynb)"
      ]
    },
    {
      "metadata": {
        "id": "5xM3OUS9DkfZ",
        "colab_type": "code",
        "colab": {
          "base_uri": "https://localhost:8080/",
          "height": 884
        },
        "outputId": "7d8f1ac1-142d-465c-d395-b85ec7fc8a03"
      },
      "cell_type": "code",
      "source": [
        "import math as math\n",
        "\n",
        "for x in range(0,300):\n",
        "  parzyste = 0\n",
        "  i = x\n",
        "  while (i>0):\n",
        "    if(i%2)==1:\n",
        "      parzyste = 1\n",
        "      break\n",
        "    i = math.floor(i/10)\n",
        "  if parzyste==0: print(x)"
      ],
      "execution_count": 5,
      "outputs": [
        {
          "output_type": "stream",
          "text": [
            "0\n",
            "2\n",
            "4\n",
            "6\n",
            "8\n",
            "20\n",
            "22\n",
            "24\n",
            "26\n",
            "28\n",
            "40\n",
            "42\n",
            "44\n",
            "46\n",
            "48\n",
            "60\n",
            "62\n",
            "64\n",
            "66\n",
            "68\n",
            "80\n",
            "82\n",
            "84\n",
            "86\n",
            "88\n",
            "200\n",
            "202\n",
            "204\n",
            "206\n",
            "208\n",
            "220\n",
            "222\n",
            "224\n",
            "226\n",
            "228\n",
            "240\n",
            "242\n",
            "244\n",
            "246\n",
            "248\n",
            "260\n",
            "262\n",
            "264\n",
            "266\n",
            "268\n",
            "280\n",
            "282\n",
            "284\n",
            "286\n",
            "288\n"
          ],
          "name": "stdout"
        }
      ]
    },
    {
      "metadata": {
        "id": "88f5sXHOD_Eo",
        "colab_type": "code",
        "colab": {
          "base_uri": "https://localhost:8080/",
          "height": 884
        },
        "outputId": "e72fcc7e-24c6-40e2-eff8-54735d1f388a"
      },
      "cell_type": "code",
      "source": [
        "import math as math\n",
        "#wersja z while else\n",
        "for x in range(0,300):\n",
        "  i = x\n",
        "  while (i>0):\n",
        "    if(i%2)==1:\n",
        "      break\n",
        "    i = math.floor(i/10)\n",
        "  else: print(x)"
      ],
      "execution_count": 6,
      "outputs": [
        {
          "output_type": "stream",
          "text": [
            "0\n",
            "2\n",
            "4\n",
            "6\n",
            "8\n",
            "20\n",
            "22\n",
            "24\n",
            "26\n",
            "28\n",
            "40\n",
            "42\n",
            "44\n",
            "46\n",
            "48\n",
            "60\n",
            "62\n",
            "64\n",
            "66\n",
            "68\n",
            "80\n",
            "82\n",
            "84\n",
            "86\n",
            "88\n",
            "200\n",
            "202\n",
            "204\n",
            "206\n",
            "208\n",
            "220\n",
            "222\n",
            "224\n",
            "226\n",
            "228\n",
            "240\n",
            "242\n",
            "244\n",
            "246\n",
            "248\n",
            "260\n",
            "262\n",
            "264\n",
            "266\n",
            "268\n",
            "280\n",
            "282\n",
            "284\n",
            "286\n",
            "288\n"
          ],
          "name": "stdout"
        }
      ]
    },
    {
      "metadata": {
        "id": "bStH_2J3vl9F",
        "colab_type": "code",
        "colab": {}
      },
      "cell_type": "code",
      "source": [
        ""
      ],
      "execution_count": 0,
      "outputs": []
    }
  ]
}