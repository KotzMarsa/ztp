{
  "nbformat": 4,
  "nbformat_minor": 0,
  "metadata": {
    "colab": {
      "name": "lab1.ipynb",
      "version": "0.3.2",
      "provenance": [],
      "collapsed_sections": [],
      "include_colab_link": true
    },
    "kernelspec": {
      "name": "python3",
      "display_name": "Python 3"
    }
  },
  "cells": [
    {
      "cell_type": "markdown",
      "metadata": {
        "id": "view-in-github",
        "colab_type": "text"
      },
      "source": [
        "[View in Colaboratory](https://colab.research.google.com/github/KotzMarsa/ztp/blob/master/lab1.ipynb)"
      ]
    },
    {
      "metadata": {
        "id": "5xM3OUS9DkfZ",
        "colab_type": "code",
        "colab": {}
      },
      "cell_type": "code",
      "source": [
        "#pierwsza werjsa, dzielenie i modulo\n",
        "\n",
        "import math as math\n",
        "for x in range(0,300):\n",
        "  parzyste = True\n",
        "  i = x\n",
        "  while (i>0):\n",
        "    if(i%2)==1:\n",
        "      parzyste = False\n",
        "      break\n",
        "    i = math.floor(i/10)\n",
        "  if (parzyste): print(x)"
      ],
      "execution_count": 0,
      "outputs": []
    },
    {
      "metadata": {
        "id": "88f5sXHOD_Eo",
        "colab_type": "code",
        "colab": {}
      },
      "cell_type": "code",
      "source": [
        "#druga wersja, dzielenie i modulo, wersja z while else\n",
        "\n",
        "import math as math\n",
        "for x in range(0,300):\n",
        "  i = x\n",
        "  while (i>0):\n",
        "    if(i%2)==1:\n",
        "      break\n",
        "    i = math.floor(i/10)\n",
        "  else: print(x)"
      ],
      "execution_count": 0,
      "outputs": []
    },
    {
      "metadata": {
        "id": "bStH_2J3vl9F",
        "colab_type": "code",
        "colab": {}
      },
      "cell_type": "code",
      "source": [
        "#trzecia wersja, zmiana na stringa\n",
        "\n",
        "for x in range(0,300):\n",
        "  x = str(x)\n",
        "  l = len(x)\n",
        "  while (l>0):\n",
        "    if(int(x[l-1])%2)==1:\n",
        "      break\n",
        "    l = l-1\n",
        "  else: print(x)"
      ],
      "execution_count": 0,
      "outputs": []
    },
    {
      "metadata": {
        "id": "B9zzg5wJJynw",
        "colab_type": "code",
        "colab": {}
      },
      "cell_type": "code",
      "source": [
        "#czwarta wersja, sztuczka\n",
        "\n",
        "[x for x in range(300) if len(str(x)) == len([s for s in str(x) if int(s) % 2 == 0])]"
      ],
      "execution_count": 0,
      "outputs": []
    },
    {
      "metadata": {
        "id": "0anDxwZGN6fL",
        "colab_type": "code",
        "colab": {}
      },
      "cell_type": "code",
      "source": [
        "#piata wersja, z funkcja, list comprehension\n",
        "\n",
        "def wszystkieParzyste(liczba):\n",
        "  parzysteCyfry = [cyfra for cyfra in str(liczba) if int(cyfra) % 2 == 0]\n",
        "  return len(str(liczba)) == len(parzysteCyfry)\n",
        "\n",
        "[x for x in range(300) if wszystkieParzyste(x)]"
      ],
      "execution_count": 0,
      "outputs": []
    },
    {
      "metadata": {
        "id": "8UdFAnrfPGFx",
        "colab_type": "code",
        "colab": {}
      },
      "cell_type": "code",
      "source": [
        "#szosta wersja, z funkcja, inne wypisywanie\n",
        "\n",
        "def wszystkieParzyste(liczba):\n",
        "  parzysteCyfry = [cyfra for cyfra in str(liczba) if int(cyfra) % 2 == 0]\n",
        "  return len(str(liczba)) == len(parzysteCyfry)\n",
        "\n",
        "for x in range(300): \n",
        "  if wszystkieParzyste(x): \n",
        "      print(x)"
      ],
      "execution_count": 0,
      "outputs": []
    }
  ]
}